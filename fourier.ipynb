{
 "cells": [
  {
   "cell_type": "markdown",
   "metadata": {},
   "source": [
    "# Grasp-and-Lift(GAL) EEG Detection\n",
    "## Classification for Hand movements\n",
    "- 被験者数: **12**\n",
    "- 各被験者ごとの試行のデータ系列数: **8**\n",
    "- 各被験者のひとつのデータ系列内の試行回数: **約30**(試行回数は各系列データごとに異なる) \n",
    "\n",
    "training set: 各被験者の最初の8つの試行のデータ系列<br/>\n",
    "test set: 第9,10番目の試行のデータ系列<br/>\n",
    "\n",
    "### Ivents (label columns)\n",
    "各GALには、6つのイベントを検出するタスク \n",
    "(それぞれのイベントにおいて2値分類(ラベル0,1))\n",
    "　\n",
    "1. HandStart\n",
    "1. FirstDigitTouch\n",
    "1. BothStartLoadPhase\n",
    "1. LiftOff\n",
    "1. Replace\n",
    "1. BothReleased\n",
    "\n",
    "これらのイベントは常に同じ順序で発生する<br/>\n",
    "training setには、各件名+シリーズの組み合わせごとに2つのファイル<br/>\n",
    "\n",
    "### Data\n",
    "* *_data.csvファイルには、rawの32チャネルEEG(Electroencephalography, 脳波)データ（サンプリングレート500Hz）\n",
    "* *_events.csvファイルには、すべてのイベントのフレーム・ワイズ・ラベル(1の連続)が含まれる\n",
    " * 6つのラベル列は、対応するイベントが±150ms（±75フレーム）以内に発生したかどうかに応じて、ゼロまたは1のいずれか\n",
    "\n",
    "## 目標\n",
    "#### 理想: イベントの窓(フレーム・ワイズ・ラベル)全体を完璧に予測\n",
    "\n",
    "## 注意\n",
    "#### 未来データは使用できない(予測する系列の平均などはとれない)"
   ]
  },
  {
   "cell_type": "markdown",
   "metadata": {
    "collapsed": true
   },
   "source": [
    "## μ律動\n",
    "7～12Hzのアーチ状の連続した波で，中心・頭頂部に一側性または両側性に出現する．\n",
    "開眼時には減衰しないが，手を握るなどの運動や感覚刺激により抑制される"
   ]
  },
  {
   "cell_type": "code",
   "execution_count": 1,
   "metadata": {},
   "outputs": [
    {
     "data": {
      "text/html": [
       "<iframe width=\"560\" height=\"315\" src=\"https://www.youtube.com/embed/y3_Izuop2gY\" frameborder=\"0\" allowfullscreen></iframe>"
      ],
      "text/plain": [
       "<IPython.core.display.HTML object>"
      ]
     },
     "execution_count": 1,
     "metadata": {},
     "output_type": "execute_result"
    }
   ],
   "source": [
    "from IPython.display import HTML\n",
    "HTML(r'<iframe width=\"560\" height=\"315\" src=\"https://www.youtube.com/embed/y3_Izuop2gY\" frameborder=\"0\" allowfullscreen></iframe>')"
   ]
  },
  {
   "cell_type": "markdown",
   "metadata": {},
   "source": [
    "# パッケージの準備"
   ]
  },
  {
   "cell_type": "code",
   "execution_count": 2,
   "metadata": {},
   "outputs": [
    {
     "name": "stderr",
     "output_type": "stream",
     "text": [
      "/Users/motofumishishikura/.pyenv/versions/anaconda3-4.2.0/lib/python3.5/site-packages/sklearn/cross_validation.py:41: DeprecationWarning: This module was deprecated in version 0.18 in favor of the model_selection module into which all the refactored classes and functions are moved. Also note that the interface of the new CV iterators are different from that of this module. This module will be removed in 0.20.\n",
      "  \"This module will be removed in 0.20.\", DeprecationWarning)\n"
     ]
    }
   ],
   "source": [
    "import numpy as np\n",
    "import scipy\n",
    "from scipy import stats\n",
    "import scipy.signal as signal\n",
    "from scipy.interpolate import interp1d\n",
    "from scipy import fftpack\n",
    "import pandas as pd\n",
    "# classifier\n",
    "from classifierRandomForest import classifyRandomForest\n",
    "from classifierSVC import classifySVC\n",
    "from classifierXGB import classifyXGB\n",
    "import xgboost as xgb\n",
    "from sklearn.linear_model import LogisticRegression\n",
    "from sklearn.decomposition import PCA\n",
    "\n",
    "from glob import glob\n",
    "import os\n",
    "\n",
    "from sklearn.preprocessing import StandardScaler\n",
    "\n",
    "import matplotlib.pyplot as plt\n",
    "%matplotlib inline\n",
    "\n",
    "# evaluation\n",
    "from sklearn.model_selection import LeaveOneGroupOut\n",
    "from sklearn.model_selection import StratifiedKFold\n",
    "from sklearn.model_selection import cross_val_score\n",
    "from sklearn.model_selection import KFold\n",
    "\n",
    "# score\n",
    "from sklearn.metrics import roc_auc_score\n",
    "from joblib import Parallel, delayed\n",
    "\n",
    "\n",
    "\n",
    "from sklearn.metrics import make_scorer, accuracy_score\n",
    "from sklearn.model_selection import GridSearchCV\n",
    "\n",
    "import itertools"
   ]
  },
  {
   "cell_type": "markdown",
   "metadata": {},
   "source": [
    "# 関数の準備"
   ]
  },
  {
   "cell_type": "code",
   "execution_count": 3,
   "metadata": {
    "collapsed": true
   },
   "outputs": [],
   "source": [
    "### データの読み込み ###\n",
    "\n",
    "def prepare_data_train(fname):\n",
    "    \"\"\" 訓練データの読み込み \"\"\"\n",
    "    # EEGデータ読み込み\n",
    "    data = pd.read_csv(fname)\n",
    "    # fnameイベントファイルの名前に変換\n",
    "    events_fname = fname.replace('_data','_events')\n",
    "    # イベントデータの読み込み\n",
    "    labels= pd.read_csv(events_fname)\n",
    "    clean=data.drop(['id' ], axis=1)#id列を削除\n",
    "    labels=labels.drop(['id' ], axis=1)#id列を削除\n",
    "    return  clean,labels\n",
    "\n",
    "def prepare_data_test(fname):\n",
    "    \"\"\" テストデータの読み込み \"\"\"\n",
    "    # EEGデータの読み込み\n",
    "    data = pd.read_csv(fname)\n",
    "    return data"
   ]
  },
  {
   "cell_type": "code",
   "execution_count": 4,
   "metadata": {
    "collapsed": true
   },
   "outputs": [],
   "source": [
    "### 前処理 ###\n",
    "\n",
    "def preprocess_median_filter(X, kernel):\n",
    "    \"\"\" Median filter\"\"\"\n",
    "    X_m = signal.medfilt(X, kernel_size=kernel)\n",
    "    return X_m\n",
    "\n",
    "def preprocess_fir_filter(X, fc):\n",
    "    \"\"\" FIR filter \"\"\"\n",
    "    fs = 500\n",
    "    nyq = fs / 2.0  # ナイキスト周波数\n",
    "\n",
    "    # フィルタの設計\n",
    "    # ナイキスト周波数が1になるように正規化\n",
    "    fe = fc / nyq      # カットオフ周波数1\n",
    "    numtaps = 15          # フィルタ係数（タップ）の数（要奇数）\n",
    "\n",
    "    b = scipy.signal.firwin(numtaps, fe) # Low-pass\n",
    "\n",
    "    # FIRフィルタをかける\n",
    "    X_FIR = scipy.signal.lfilter(b, 1, X)\n",
    "    return X_FIR\n",
    "\n",
    "def cut_off(X, fs):\n",
    "    \"\"\" FFT処理後に高周波を取り除く\"\"\"\n",
    "    # fs: カットオフ周波数[Hz]\n",
    "    # 時系列のサンプルデータ作成\n",
    "    n = X.shape[0]                         # データ数\n",
    "    dt = 0.002                       # サンプリング間隔\n",
    "    f = 500                           # 周波数\n",
    "\n",
    "    # FFT 処理と周波数スケールの作成\n",
    "    X_f = fftpack.fft(X)/(n/2)\n",
    "    freq = fftpack.fftfreq(n, dt)\n",
    "\n",
    "    # フィルタ処理\n",
    "    # ここではカットオフ周波数以上に対応するデータを 0 にしている                          \n",
    "    X_f2 = np.copy(X_f)\n",
    "    X_f2[(freq > fs)] = 0\n",
    "    X_f2[(freq < 0)] = 0\n",
    "\n",
    "    # 逆 FFT 処理\n",
    "    # FFT によるフィルタ処理では虚数部が計算されることがあるため\n",
    "    # real 関数が必要(普段は必要ない)\n",
    "    X_prep = np.real(fftpack.ifft(X_f2)*n)\n",
    "    \n",
    "    return X_prep\n",
    "\n",
    "\n",
    "def data_preprocess_train(X):\n",
    "    scaler= StandardScaler()\n",
    "    X_prep = scaler.fit_transform(X)\n",
    "#     X_prep = preprocess_fir_filter(X_prep, 100.0)\n",
    "#     X_prep = cut_off(X, 50.0)\n",
    "\n",
    "    #ここで他のpreprocessingを追加\n",
    "    return X_prep\n",
    "\n",
    "def data_preprocess_test(X):\n",
    "    scaler= StandardScaler()\n",
    "    X_prep = scaler.transform(X)\n",
    "    #ここで他のpreprocessingを追加\n",
    "    return X_prep"
   ]
  },
  {
   "cell_type": "code",
   "execution_count": 5,
   "metadata": {
    "collapsed": true
   },
   "outputs": [],
   "source": [
    "### Signal -> Power spectrum ###\n",
    "\n",
    "def spectrum (vector):\n",
    "    ''' raw EEG dataベクトルのpower spectrum '''\n",
    "    A = np.fft.fft(vector)# /len(vector)\n",
    "    ps = np.abs(A)**2\n",
    "    # 正のpower spectrum\n",
    "    ps = ps[:len(ps)//2]\n",
    "    return ps"
   ]
  },
  {
   "cell_type": "code",
   "execution_count": 6,
   "metadata": {
    "collapsed": true
   },
   "outputs": [],
   "source": [
    "def run_kfold(clf):\n",
    "    kf = KFold(n_splits=10)\n",
    "    outcomes = []\n",
    "    fold = 0\n",
    "    for train_index, test_index in kf.split(X_Oz_f):\n",
    "        fold += 1\n",
    "        X_train, X_test = X_Oz_f[train_index], X_Oz_f[test_index]\n",
    "        y_train, y_test = y_f_handstart[train_index], y_f_handstart[test_index]\n",
    "        clf.fit(X_train, y_train)\n",
    "        predictions = clf.predict(X_test)\n",
    "        accuracy = accuracy_score(y_test, predictions)\n",
    "        outcomes.append(accuracy)\n",
    "        print(\"Fold {0} accuracy: {1}\".format(fold, accuracy))\n",
    "    mean_outcome = np.mean(outcomes)\n",
    "    print(\"Mean Accuracy: {0}\".format(mean_outcome))"
   ]
  },
  {
   "cell_type": "markdown",
   "metadata": {},
   "source": [
    "フィルタ処理はどうしたらいいかわからない"
   ]
  },
  {
   "cell_type": "markdown",
   "metadata": {},
   "source": [
    "## 6 Ivents(label columns):\n",
    "\n",
    "1. HandStart\n",
    "1. FirstDigitTouch\n",
    "1. BothStartLoadPhase\n",
    "1. LiftOff\n",
    "1. Replace\n",
    "1. BothReleased"
   ]
  },
  {
   "cell_type": "code",
   "execution_count": 7,
   "metadata": {
    "collapsed": true
   },
   "outputs": [],
   "source": [
    "cols = ['HandStart','FirstDigitTouch',\n",
    "        'BothStartLoadPhase','LiftOff',\n",
    "        'Replace','BothReleased']"
   ]
  },
  {
   "cell_type": "markdown",
   "metadata": {},
   "source": [
    "## 12 Subjects"
   ]
  },
  {
   "cell_type": "code",
   "execution_count": 8,
   "metadata": {
    "collapsed": true
   },
   "outputs": [],
   "source": [
    "#被験者数\n",
    "subjects = range(1,13)\n",
    "ids_tot = []\n",
    "pred_tot = []"
   ]
  },
  {
   "cell_type": "markdown",
   "metadata": {},
   "source": [
    "# 運動の初動(HandStart)を予測\n",
    "\n",
    "\n",
    "- EEGで運動の初動を予測\n",
    "- 脳の特徴: 機能局在\n",
    " - Channelsの選択\n",
    " - 試行(開始，終了)はLEDによって指示→視覚情報処理(RetinaからVisual cortexへ)→Visual cortex付近のEEGに運動の初動の情報が含まれているのではないか\n",
    " - O1, O2, Oz: V1\n",
    " - F3, F4: Primary motor cortex: M1\n",
    " - <img src=\"image/EEG_Electrode_Numbering.jpg\">\n",
    "- EEGの特徴:\n",
    " - Since EEG activity is associated with frequencies from 1-40 Hz, it is generally presumed that this range contains the majority of relevant signal.\n",
    " - This frequency range can be polluted with non-neural signals (Ball et al., 2009)\n",
    " - EEGの特徴より，40Hzまでの特徴空間\n",
    "- Reaction timeは視覚刺激の検出では180から200msec(心理物理実験により) (Wong et al., 2015)\n",
    " - HandStartの1000msec前からリアルタイムまでのEEG信号のパワースペクトラムを特徴とする\n",
    " - DFTの性質上周波数スペクトル間隔はPointsの数に依存するため大きく取りたい\n",
    " - <img src=\"image/RTdistributions.png\">\n",
    "\n",
    "\n",
    "## Ex1:\n",
    "- Channel: Oz\n",
    "- Subject: 1\n",
    "- Series: 1\n",
    "### ACC: 0.956\n",
    "\n",
    "## Ex2:\n",
    "- Channel: Oz\n",
    "- Subject: 1\n",
    "- Series: 1~8\n",
    "### ACC: 0.973\n",
    "\n",
    "## Ex3:\n",
    "- Channel: C1, C2, P3, Pz, P4, PO7, Oz, PO8\n",
    "- Subject: 1\n",
    "- Series: 1~8\n",
    "\n",
    "## Ex4:\n",
    "- Channel: C1, C2, P3, Pz, P4, PO7, Oz, PO8\n",
    "- Subject: 1~12\n",
    "- Series: 1~8"
   ]
  },
  {
   "cell_type": "markdown",
   "metadata": {},
   "source": [
    "## Ex1: Oz channel(subject1,series1)のデータ\n",
    "### Visual cortexあたり\n",
    "- 実験では，オブジェクトのライトが点灯して動作をスタートさせる(handstart)ため，視覚野あたりのEEGデータから予測できるのではないか"
   ]
  },
  {
   "cell_type": "markdown",
   "metadata": {},
   "source": [
    "### subject1,series1のデータ取得"
   ]
  },
  {
   "cell_type": "code",
   "execution_count": 9,
   "metadata": {},
   "outputs": [
    {
     "name": "stdout",
     "output_type": "stream",
     "text": [
      "['input/train/subj1_series1_data.csv']\n"
     ]
    }
   ],
   "source": [
    "fnames = glob('input/train/subj1_series1_data.csv')\n",
    "print(fnames)\n",
    "X = []\n",
    "y = []\n",
    "for fname in fnames:\n",
    "    # 訓練データの読み込み\n",
    "    data,labels = prepare_data_train(fname)\n",
    "    # すべての系列データ(1-8)\n",
    "    X.append(data)\n",
    "    y.append(labels)\n",
    "\n",
    "# 1次元のlistにする\n",
    "X = pd.concat(X)\n",
    "y = pd.concat(y)"
   ]
  },
  {
   "cell_type": "code",
   "execution_count": 10,
   "metadata": {
    "collapsed": true
   },
   "outputs": [],
   "source": [
    "#numpy arrayにする   \n",
    "X = np.asarray(X.astype(float))\n",
    "y = np.asarray(y.astype(float))"
   ]
  },
  {
   "cell_type": "markdown",
   "metadata": {},
   "source": [
    "- 119,496Points/500Hz ≒ 240sec \n",
    "- 32 channels"
   ]
  },
  {
   "cell_type": "code",
   "execution_count": 11,
   "metadata": {},
   "outputs": [
    {
     "name": "stdout",
     "output_type": "stream",
     "text": [
      "(119496, 32)\n",
      "(119496, 6)\n"
     ]
    }
   ],
   "source": [
    "print(X.shape)\n",
    "print(y.shape)"
   ]
  },
  {
   "cell_type": "markdown",
   "metadata": {},
   "source": [
    "### Oz channelのデータ取得"
   ]
  },
  {
   "cell_type": "code",
   "execution_count": 12,
   "metadata": {},
   "outputs": [
    {
     "data": {
      "image/png": "[encoded data removed]",
      "text/plain": [
       "<matplotlib.figure.Figure at 0x114a30828>"
      ]
     },
     "metadata": {},
     "output_type": "display_data"
    }
   ],
   "source": [
    "fig, ax = plt.subplots()\n",
    "\n",
    "X_Oz = X[:, 29]\n",
    "ax.plot(X_Oz)\n",
    "ax.set_title('Oz channel')\n",
    "plt.xlabel(\"points\")\n",
    "plt.ylabel(\"Amp\")\n",
    "plt.show()"
   ]
  },
  {
   "cell_type": "markdown",
   "metadata": {},
   "source": [
    "# 特徴抽出"
   ]
  },
  {
   "cell_type": "markdown",
   "metadata": {},
   "source": [
    "## Remove DC component -> DFT -> Power -> cut-off"
   ]
  },
  {
   "cell_type": "markdown",
   "metadata": {},
   "source": [
    "### Remove DC component"
   ]
  },
  {
   "cell_type": "markdown",
   "metadata": {},
   "source": [
    "#### 1sec before the HandStart time"
   ]
  },
  {
   "cell_type": "code",
   "execution_count": 13,
   "metadata": {},
   "outputs": [
    {
     "data": {
      "text/plain": [
       "1068"
      ]
     },
     "execution_count": 13,
     "metadata": {},
     "output_type": "execute_result"
    }
   ],
   "source": [
    "# print(y[0].index())\n",
    "y_list = y[:, 0].tolist()\n",
    "y_list.index(1)"
   ]
  },
  {
   "cell_type": "code",
   "execution_count": 14,
   "metadata": {
    "collapsed": true
   },
   "outputs": [],
   "source": [
    "t_handstart = y_list.index(1)\n",
    "# remove DC component\n",
    "X_Oz_m_500 = X_Oz[range(t_handstart,t_handstart+500)] - np.mean(X_Oz[range(t_handstart,t_handstart+500)])\n",
    "X_Oz_m_500_med = preprocess_median_filter(X_Oz_m_500, 3)"
   ]
  },
  {
   "cell_type": "code",
   "execution_count": 15,
   "metadata": {},
   "outputs": [
    {
     "data": {
      "image/png": "[encoded data removed]",
      "text/plain": [
       "<matplotlib.figure.Figure at 0x114a30e10>"
      ]
     },
     "metadata": {},
     "output_type": "display_data"
    }
   ],
   "source": [
    "plt.figure()\n",
    "plt.plot(X_Oz_m_500_med, \"b\", label=\"Amp\")\n",
    "plt.axis(\"tight\")\n",
    "plt.legend(loc=\"upper right\")\n",
    "plt.title(\"Remove DC component\")\n",
    "plt.xlabel(\"points\")\n",
    "plt.ylabel(\"Amp\")\n",
    "plt.show()"
   ]
  },
  {
   "cell_type": "markdown",
   "metadata": {},
   "source": [
    "### DFT->Power spectrum"
   ]
  },
  {
   "cell_type": "markdown",
   "metadata": {},
   "source": [
    "500Hz, 1000Points → 0.5Hz間隔周波数スペクトラム"
   ]
  },
  {
   "cell_type": "code",
   "execution_count": 16,
   "metadata": {
    "scrolled": true
   },
   "outputs": [
    {
     "data": {
      "image/png": "[encoded data removed]",
      "text/plain": [
       "<matplotlib.figure.Figure at 0x114a30128>"
      ]
     },
     "metadata": {},
     "output_type": "display_data"
    }
   ],
   "source": [
    "X_Oz_f = spectrum(X_Oz_m_500) # 1sec\n",
    "plt.figure()\n",
    "plt.plot(X_Oz_f, \"b\", label=\"Power\")\n",
    "plt.axis(\"tight\")\n",
    "plt.title(\"Power spectrum\")\n",
    "plt.legend(loc=\"upper right\")\n",
    "plt.xlabel(\"Hz\")\n",
    "plt.ylabel(\"Power\")\n",
    "plt.show()"
   ]
  },
  {
   "cell_type": "markdown",
   "metadata": {},
   "source": [
    "### cut-off"
   ]
  },
  {
   "cell_type": "code",
   "execution_count": 17,
   "metadata": {},
   "outputs": [
    {
     "data": {
      "image/png": "[encoded data removed]",
      "text/plain": [
       "<matplotlib.figure.Figure at 0x114a257f0>"
      ]
     },
     "metadata": {},
     "output_type": "display_data"
    }
   ],
   "source": [
    "# powerの配列の要素数+1\n",
    "X_Oz_f_100 = np.arange(1,len(X_Oz_f)+1)\n",
    "# 1D補間法\n",
    "f = interp1d(X_Oz_f_100,X_Oz_f)#/np.sum(ps))\n",
    "X_Oz_f_100 = f(np.arange(1, 40+1))\n",
    "    \n",
    "plt.figure()\n",
    "plt.plot(X_Oz_f_100, \"b\", label=\"Power\")\n",
    "plt.axis(\"tight\")\n",
    "plt.legend(loc=\"upper right\")\n",
    "plt.title(\"Cut-off 40Hz\")\n",
    "plt.xlabel(\"Hz\")\n",
    "# plt.xticks([10, 20, 30, 40, 50, 60, 70, 80], [5, 10, 15, 20, 25, 30, 35, 40])\n",
    "plt.ylabel(\"Power\")\n",
    "plt.show()"
   ]
  },
  {
   "cell_type": "markdown",
   "metadata": {},
   "source": [
    "### Standardize features by removing the mean and scaling to unit variance"
   ]
  },
  {
   "cell_type": "code",
   "execution_count": 22,
   "metadata": {
    "collapsed": true
   },
   "outputs": [],
   "source": [
    "X_Oz_f_s = data_preprocess_train(X_Oz_f_100.reshape((-1,1)))"
   ]
  },
  {
   "cell_type": "code",
   "execution_count": 23,
   "metadata": {},
   "outputs": [
    {
     "data": {
      "image/png": "[encoded data removed]",
      "text/plain": [
       "<matplotlib.figure.Figure at 0x11669f128>"
      ]
     },
     "metadata": {},
     "output_type": "display_data"
    }
   ],
   "source": [
    "plt.figure()\n",
    "plt.plot(X_Oz_f_s, \"b\", label=\"Power\")\n",
    "plt.axis(\"tight\")\n",
    "plt.legend(loc=\"upper right\")\n",
    "plt.title(\"Standardize features\")\n",
    "plt.xlabel(\"Hz\")\n",
    "# plt.xticks([10, 20, 30, 40, 50, 60, 70, 80], [5, 10, 15, 20, 25, 30, 35, 40])\n",
    "plt.ylabel(\"Power\")\n",
    "plt.show()"
   ]
  },
  {
   "cell_type": "markdown",
   "metadata": {},
   "source": [
    "### binning"
   ]
  },
  {
   "cell_type": "code",
   "execution_count": null,
   "metadata": {
    "collapsed": true
   },
   "outputs": [],
   "source": [
    "import numpy\n",
    "# data = numpy.random.random(100)\n",
    "bins = numpy.linspace(0, 1, 10)\n",
    "digitized = numpy.digitize(X_Oz_f_100, bins)\n",
    "bin_means = [data[digitized == i].mean() for i in range(1, len(bins))]"
   ]
  },
  {
   "cell_type": "code",
   "execution_count": 34,
   "metadata": {
    "collapsed": true
   },
   "outputs": [],
   "source": [
    "import numpy\n",
    "data = numpy.random.random(100)\n",
    "bins = numpy.linspace(0, 1, 10)\n",
    "digitized = numpy.digitize(data, bins)\n",
    "bin_means = [data[digitized == i].mean() for i in range(1, len(bins))]"
   ]
  },
  {
   "cell_type": "markdown",
   "metadata": {},
   "source": [
    "## 時刻[t-2, t]secのPower spectraを特徴ベクトルとして時刻tのイベントを推定"
   ]
  },
  {
   "cell_type": "code",
   "execution_count": 63,
   "metadata": {
    "collapsed": true
   },
   "outputs": [],
   "source": [
    "point_cutoff = 40 + 1 #cutoff-frequency[Hz] * 2 + 1\n",
    "X_Oz_f = np.empty((0,point_cutoff))\n",
    "y_f_handstart = np.empty((0))\n",
    "\n",
    "for stride in range(500,len(X_Oz),3):\n",
    "    \"\"\" stride:3, 150msec, 500Hz-> 1.5*500/3個の連続する1 \"\"\"\n",
    "    X_Oz_r = X_Oz[stride-500:stride]\n",
    "    X_Oz_m = X_Oz_r - np.mean(X_Oz_r) # remove DC component\n",
    "    dft_X_Oz_f = np.array(spectrum(X_Oz_m)[:point_cutoff]).reshape((1,-1)) # Power\n",
    "    X_Oz_f = np.append(X_Oz_f, dft_X_Oz_f, axis=0)\n",
    "    y_f_handstart = np.append(y_f_handstart, y[stride, 0])"
   ]
  },
  {
   "cell_type": "code",
   "execution_count": 64,
   "metadata": {},
   "outputs": [
    {
     "name": "stdout",
     "output_type": "stream",
     "text": [
      "(39666, 41)\n",
      "(39666,)\n"
     ]
    }
   ],
   "source": [
    "print(X_Oz_f.shape)\n",
    "print(y_f_handstart.shape)"
   ]
  },
  {
   "cell_type": "markdown",
   "metadata": {},
   "source": [
    "### Standardize features by removing the mean and scaling to unit variance"
   ]
  },
  {
   "cell_type": "code",
   "execution_count": 65,
   "metadata": {
    "collapsed": true
   },
   "outputs": [],
   "source": [
    "X_Oz_f_s = data_preprocess_train(X_Oz_f)"
   ]
  },
  {
   "cell_type": "markdown",
   "metadata": {},
   "source": [
    "### Cross-validationを用いたAccuracyによる予測能の比較"
   ]
  },
  {
   "cell_type": "code",
   "execution_count": 70,
   "metadata": {
    "collapsed": true
   },
   "outputs": [],
   "source": [
    "clf = LogisticRegression()\n",
    "scores_LR = cross_val_score(estimator=clf,\n",
    "                         X=X_Oz_f,\n",
    "                         y=y_f_handstart,\n",
    "                         cv=10,\n",
    "                         n_jobs=1)"
   ]
  },
  {
   "cell_type": "code",
   "execution_count": 71,
   "metadata": {
    "scrolled": true
   },
   "outputs": [
    {
     "name": "stdout",
     "output_type": "stream",
     "text": [
      "CV accuracy scores: [ 0.95714646  0.95714646  0.95311318  0.95714646  0.95639022  0.95714646\n",
      "  0.95713565  0.95511851  0.95713565  0.95713565]\n",
      "CV accuracy: 0.956 +/- 0.001\n"
     ]
    }
   ],
   "source": [
    "print('CV accuracy scores: %s' % scores_LR)\n",
    "print('CV accuracy: %.3f +/- %.3f' % (np.mean(scores_LR), np.std(scores_LR)))"
   ]
  },
  {
   "cell_type": "code",
   "execution_count": null,
   "metadata": {
    "collapsed": true
   },
   "outputs": [],
   "source": [
    "# print('CV accuracy scores: %s' % scores_XGB)\n",
    "print('CV accuracy: %.3f +/- %.3f' % (np.mean(scores_XGB), np.std(scores_XGB)))"
   ]
  },
  {
   "cell_type": "code",
   "execution_count": 35,
   "metadata": {},
   "outputs": [
    {
     "name": "stdout",
     "output_type": "stream",
     "text": [
      "Fold 1 accuracy: 0.9495840685656668\n",
      "Fold 2 accuracy: 0.96218805142425\n",
      "Fold 3 accuracy: 0.9480715906226368\n",
      "Fold 4 accuracy: 0.96218805142425\n",
      "Fold 5 accuracy: 0.96218805142425\n",
      "Fold 6 accuracy: 0.9495840685656668\n",
      "Fold 7 accuracy: 0.962178517397882\n",
      "Fold 8 accuracy: 0.9495713565305093\n",
      "Fold 9 accuracy: 0.962178517397882\n",
      "Fold 10 accuracy: 0.962178517397882\n",
      "Mean Accuracy: 0.9569910790750876\n"
     ]
    }
   ],
   "source": [
    "clf = classifyXGB(X_Oz_f, y_f_handstart)\n",
    "run_kfold(clf)"
   ]
  },
  {
   "cell_type": "code",
   "execution_count": null,
   "metadata": {
    "collapsed": true
   },
   "outputs": [],
   "source": [
    "from classifierSVC import classifySVC\n",
    "from sklearn.svm import SVC\n",
    "clf = SVC()\n",
    "scores_SVC = cross_val_score(estimator=clf,\n",
    "                         X=X_Oz_f,\n",
    "                         y=y_f_handstart,\n",
    "                         cv=10,\n",
    "                         n_jobs=1)"
   ]
  },
  {
   "cell_type": "code",
   "execution_count": null,
   "metadata": {
    "collapsed": true
   },
   "outputs": [],
   "source": [
    "print('CV accuracy scores: %s' % scores_SVC)\n",
    "print('CV accuracy: %.3f +/- %.3f' % (np.mean(scores_SVC), np.std(scores_SVC)))"
   ]
  },
  {
   "cell_type": "code",
   "execution_count": null,
   "metadata": {
    "collapsed": true
   },
   "outputs": [],
   "source": [
    "clf = classifySVC(X_Oz_f, y_f_handstart)\n",
    "run_kfold(clf)"
   ]
  },
  {
   "cell_type": "markdown",
   "metadata": {},
   "source": [
    "## Ex2:Oz channel(subject1,series 1~8)のデータ\n",
    "- 実験の数を増やしてみる(time series 1~8を用いる)"
   ]
  },
  {
   "cell_type": "markdown",
   "metadata": {},
   "source": [
    "### subject1,series1~9のデータ取得"
   ]
  },
  {
   "cell_type": "code",
   "execution_count": 6,
   "metadata": {
    "collapsed": true
   },
   "outputs": [],
   "source": [
    "subject = 1\n",
    "series = range(1,9)\n",
    "y_raw= []\n",
    "raw = []\n",
    "sequence = []\n",
    "################ READ DATA ################################################\n",
    "for ser in series:\n",
    "    fname = 'input/train/subj%d_series%d_data.csv' % (subject,ser)\n",
    "    data,labels = prepare_data_train(fname)\n",
    "    raw.append(data)\n",
    "    y_raw.append(labels)\n",
    "    sequence.extend([ser]*len(data))"
   ]
  },
  {
   "cell_type": "code",
   "execution_count": 7,
   "metadata": {
    "collapsed": true
   },
   "outputs": [],
   "source": [
    "X = pd.concat(raw)\n",
    "y = pd.concat(y_raw)\n",
    "#transform in numpy array\n",
    "#transform train data in numpy array\n",
    "X = np.asarray(X.astype(float))\n",
    "y = np.asarray(y.astype(float))\n",
    "sequence = np.asarray(sequence)\n",
    "#     print(sequence.shape, y.shape, X.shape)"
   ]
  },
  {
   "cell_type": "markdown",
   "metadata": {},
   "source": [
    "- 1,422,392Points/500Hz ≒ 2845sec \n",
    "- 32 channels"
   ]
  },
  {
   "cell_type": "code",
   "execution_count": 9,
   "metadata": {},
   "outputs": [
    {
     "name": "stdout",
     "output_type": "stream",
     "text": [
      "(1422392, 32)\n",
      "(1422392, 6)\n"
     ]
    }
   ],
   "source": [
    "print(X.shape)\n",
    "print(y.shape)"
   ]
  },
  {
   "cell_type": "markdown",
   "metadata": {},
   "source": [
    "### Oz channelのデータ取得"
   ]
  },
  {
   "cell_type": "code",
   "execution_count": 10,
   "metadata": {
    "collapsed": true
   },
   "outputs": [],
   "source": [
    "X_Oz = X[:, 29] # choose Oz channel\n",
    "point_cutoff = 80 + 1 #cutoff-frequency[Hz] * 2 + 1\n",
    "X_Oz_f = np.empty((0,point_cutoff))\n",
    "y_f_handstart = np.empty((0))"
   ]
  },
  {
   "cell_type": "code",
   "execution_count": 14,
   "metadata": {},
   "outputs": [
    {
     "ename": "KeyboardInterrupt",
     "evalue": "",
     "output_type": "error",
     "traceback": [
      "\u001b[0;31m---------------------------------------------------------------------------\u001b[0m",
      "\u001b[0;31mKeyboardInterrupt\u001b[0m                         Traceback (most recent call last)",
      "\u001b[0;32m<ipython-input-14-dfdfdcff8222>\u001b[0m in \u001b[0;36m<module>\u001b[0;34m()\u001b[0m\n\u001b[1;32m      4\u001b[0m     \u001b[0mX_Oz_m\u001b[0m \u001b[0;34m=\u001b[0m \u001b[0mX_Oz_r\u001b[0m \u001b[0;34m-\u001b[0m \u001b[0mnp\u001b[0m\u001b[0;34m.\u001b[0m\u001b[0mmean\u001b[0m\u001b[0;34m(\u001b[0m\u001b[0mX_Oz_r\u001b[0m\u001b[0;34m)\u001b[0m \u001b[0;31m# remove DC component\u001b[0m\u001b[0;34m\u001b[0m\u001b[0m\n\u001b[1;32m      5\u001b[0m     \u001b[0mdft_X_Oz_f\u001b[0m \u001b[0;34m=\u001b[0m \u001b[0mnp\u001b[0m\u001b[0;34m.\u001b[0m\u001b[0marray\u001b[0m\u001b[0;34m(\u001b[0m\u001b[0mspectrum\u001b[0m\u001b[0;34m(\u001b[0m\u001b[0mX_Oz_m\u001b[0m\u001b[0;34m)\u001b[0m\u001b[0;34m[\u001b[0m\u001b[0;34m:\u001b[0m\u001b[0mpoint_cutoff\u001b[0m\u001b[0;34m]\u001b[0m\u001b[0;34m)\u001b[0m\u001b[0;34m.\u001b[0m\u001b[0mreshape\u001b[0m\u001b[0;34m(\u001b[0m\u001b[0;34m(\u001b[0m\u001b[0;36m1\u001b[0m\u001b[0;34m,\u001b[0m\u001b[0;34m-\u001b[0m\u001b[0;36m1\u001b[0m\u001b[0;34m)\u001b[0m\u001b[0;34m)\u001b[0m \u001b[0;31m# Power\u001b[0m\u001b[0;34m\u001b[0m\u001b[0m\n\u001b[0;32m----> 6\u001b[0;31m     \u001b[0mX_Oz_f\u001b[0m \u001b[0;34m=\u001b[0m \u001b[0mnp\u001b[0m\u001b[0;34m.\u001b[0m\u001b[0mappend\u001b[0m\u001b[0;34m(\u001b[0m\u001b[0mX_Oz_f\u001b[0m\u001b[0;34m,\u001b[0m \u001b[0mdft_X_Oz_f\u001b[0m\u001b[0;34m,\u001b[0m \u001b[0maxis\u001b[0m\u001b[0;34m=\u001b[0m\u001b[0;36m0\u001b[0m\u001b[0;34m)\u001b[0m\u001b[0;34m\u001b[0m\u001b[0m\n\u001b[0m\u001b[1;32m      7\u001b[0m     \u001b[0my_f_handstart\u001b[0m \u001b[0;34m=\u001b[0m \u001b[0mnp\u001b[0m\u001b[0;34m.\u001b[0m\u001b[0mappend\u001b[0m\u001b[0;34m(\u001b[0m\u001b[0my_f_handstart\u001b[0m\u001b[0;34m,\u001b[0m \u001b[0my\u001b[0m\u001b[0;34m[\u001b[0m\u001b[0mstride\u001b[0m\u001b[0;34m,\u001b[0m \u001b[0;36m0\u001b[0m\u001b[0;34m]\u001b[0m\u001b[0;34m)\u001b[0m\u001b[0;34m\u001b[0m\u001b[0m\n",
      "\u001b[0;32m~/.pyenv/versions/anaconda3-4.2.0/lib/python3.5/site-packages/numpy/lib/function_base.py\u001b[0m in \u001b[0;36mappend\u001b[0;34m(arr, values, axis)\u001b[0m\n\u001b[1;32m   5145\u001b[0m         \u001b[0mvalues\u001b[0m \u001b[0;34m=\u001b[0m \u001b[0mravel\u001b[0m\u001b[0;34m(\u001b[0m\u001b[0mvalues\u001b[0m\u001b[0;34m)\u001b[0m\u001b[0;34m\u001b[0m\u001b[0m\n\u001b[1;32m   5146\u001b[0m         \u001b[0maxis\u001b[0m \u001b[0;34m=\u001b[0m \u001b[0marr\u001b[0m\u001b[0;34m.\u001b[0m\u001b[0mndim\u001b[0m\u001b[0;34m-\u001b[0m\u001b[0;36m1\u001b[0m\u001b[0;34m\u001b[0m\u001b[0m\n\u001b[0;32m-> 5147\u001b[0;31m     \u001b[0;32mreturn\u001b[0m \u001b[0mconcatenate\u001b[0m\u001b[0;34m(\u001b[0m\u001b[0;34m(\u001b[0m\u001b[0marr\u001b[0m\u001b[0;34m,\u001b[0m \u001b[0mvalues\u001b[0m\u001b[0;34m)\u001b[0m\u001b[0;34m,\u001b[0m \u001b[0maxis\u001b[0m\u001b[0;34m=\u001b[0m\u001b[0maxis\u001b[0m\u001b[0;34m)\u001b[0m\u001b[0;34m\u001b[0m\u001b[0m\n\u001b[0m",
      "\u001b[0;31mKeyboardInterrupt\u001b[0m: "
     ]
    }
   ],
   "source": [
    "for stride in range(500,len(X_Oz),3):\n",
    "    \"\"\" stride:3, 150msec, 500Hz-> 1.5*500/3個の連続する1 \"\"\"\n",
    "    X_Oz_r = X_Oz[stride-500:stride]\n",
    "    X_Oz_m = X_Oz_r - np.mean(X_Oz_r) # remove DC component\n",
    "    dft_X_Oz_f = np.array(spectrum(X_Oz_m)[:point_cutoff]).reshape((1,-1)) # Power\n",
    "    X_Oz_f = np.append(X_Oz_f, dft_X_Oz_f, axis=0)\n",
    "    y_f_handstart = np.append(y_f_handstart, y[stride, 0])"
   ]
  },
  {
   "cell_type": "code",
   "execution_count": null,
   "metadata": {
    "collapsed": true
   },
   "outputs": [],
   "source": [
    "print(X_Oz_f.shape)\n",
    "print(y_f_handstart.shape)"
   ]
  },
  {
   "cell_type": "code",
   "execution_count": null,
   "metadata": {
    "collapsed": true
   },
   "outputs": [],
   "source": [
    "################ Train classifiers ########################################\n",
    "cv = LeaveOneGroupOut()\n",
    "cv.get_n_splits(groups=sequence)\n",
    "pred = np.empty(X.shape[0])\n",
    "\n",
    "for train, test in cv.split(X, y, sequence):\n",
    "    X_train = X[train]\n",
    "    X_test = X[test]\n",
    "    y_train = y[train]\n",
    "    #apply preprocessing\n",
    "    X_train = data_preprocess_train(X_train)\n",
    "    X_test = data_preprocess_test(X_test)\n",
    "    clfs = Parallel(n_jobs=6)(delayed(fit)(X_train[::subsample,:],y_train[::subsample,i]) for i in range(6))\n",
    "    preds = Parallel(n_jobs=6)(delayed(predict)(clfs[i],X_test) for i in range(6))\n",
    "    pred[test,:] = np.concatenate(preds,axis=1)\n",
    "\n",
    "# get AUC\n",
    "auc = roc_auc_score(y[:],pred[:])    \n",
    "print(\"subject\", subject)\n",
    "print(auc)"
   ]
  },
  {
   "cell_type": "code",
   "execution_count": null,
   "metadata": {
    "collapsed": true
   },
   "outputs": [],
   "source": []
  },
  {
   "cell_type": "markdown",
   "metadata": {},
   "source": [
    "#### ACC"
   ]
  },
  {
   "cell_type": "code",
   "execution_count": 1,
   "metadata": {
    "collapsed": true
   },
   "outputs": [],
   "source": [
    "acc_ex2 = [0.9726,0.9726,0.9726,0.9726,0.9726,0.9726,0.9726,0.9726,0.9726,0.9726]"
   ]
  },
  {
   "cell_type": "markdown",
   "metadata": {},
   "source": [
    "## Ex3:C1, C2, P3, Pz, P4, PO7, Oz, PO8 channel(subject1,series 1~8)のデータ\n",
    "- Channels位置は C1, C2, P3, Pz, P4, PO7, Oz, PO8 の 8 カ所"
   ]
  },
  {
   "cell_type": "markdown",
   "metadata": {},
   "source": [
    "# 訓練過程 "
   ]
  },
  {
   "cell_type": "markdown",
   "metadata": {},
   "source": [
    "# 交差検証法を用いたAUC(Area Under the Curve)による予測能の比較\n",
    "- AUC: ROC曲線(Receiver Operatorating Characteristic curve、受信者動作特性曲線)の面積\n",
    "- 混合行列を定量的に比較し，予測能を判断するもの"
   ]
  },
  {
   "cell_type": "code",
   "execution_count": null,
   "metadata": {
    "collapsed": true
   },
   "outputs": [],
   "source": [
    "def fit(X,y):\n",
    "    # Do here you training\n",
    "    clf = LogisticRegression()\n",
    "    clf.fit(X,y)\n",
    "    return clf\n",
    "\n",
    "def predict(clf,X):\n",
    "    # do here your prediction\n",
    "    preds = clf.predict_proba(X)\n",
    "    return np.atleast_2d(preds[:,clf.classes_==1])\n",
    "    \n",
    "#series used for CV\n",
    "series = range(1,9)"
   ]
  },
  {
   "cell_type": "code",
   "execution_count": null,
   "metadata": {
    "collapsed": true
   },
   "outputs": [],
   "source": []
  },
  {
   "cell_type": "markdown",
   "metadata": {},
   "source": [
    "## Logistic Regression"
   ]
  },
  {
   "cell_type": "code",
   "execution_count": null,
   "metadata": {
    "collapsed": true
   },
   "outputs": [],
   "source": [
    "#######number of subjects###############\n",
    "subjects = range(1,9)\n",
    "auc_tot = []\n",
    "pred_tot = []\n",
    "y_tot = []\n",
    "###loop on subjects and 8 series for train data + 2 series for test data\n",
    "for i, subject in enumerate(subjects):\n",
    "    y_raw= []\n",
    "    raw = []\n",
    "    sequence = []\n",
    "    ################ READ DATA ################################################\n",
    "    for ser in series:\n",
    "        fname =  'input/train/subj%d_series%d_data.csv' % (subject,ser)\n",
    "        data,labels=prepare_data_train(fname)\n",
    "        raw.append(data)\n",
    "        y_raw.append(labels)\n",
    "        sequence.extend([ser]*len(data))\n",
    "\n",
    "    X = pd.concat(raw)\n",
    "    y = pd.concat(y_raw)\n",
    "    #transform in numpy array\n",
    "    #transform train data in numpy array\n",
    "    X = np.asarray(X.astype(float))\n",
    "    y = np.asarray(y.astype(float))\n",
    "    sequence = np.asarray(sequence)\n",
    "#     print(sequence.shape, y.shape, X.shape)\n",
    "\n",
    "\n",
    "    ################ Train classifiers ########################################\n",
    "    cv = LeaveOneGroupOut()\n",
    "    cv.get_n_splits(groups=sequence)\n",
    "    pred = np.empty((X.shape[0],6))\n",
    "\n",
    "    for train, test in cv.split(X, y, sequence):\n",
    "        X_train = X[train]\n",
    "        X_test = X[test]\n",
    "        y_train = y[train]\n",
    "        #apply preprocessing\n",
    "        X_train = data_preprocess_train(X_train)\n",
    "        X_test = data_preprocess_test(X_test)\n",
    "        clfs = Parallel(n_jobs=6)(delayed(fit)(X_train[::subsample,:],y_train[::subsample,i]) for i in range(6))\n",
    "        preds = Parallel(n_jobs=6)(delayed(predict)(clfs[i],X_test) for i in range(6))\n",
    "        pred[test,:] = np.concatenate(preds,axis=1)\n",
    "    pred_tot.append(pred)\n",
    "    y_tot.append(y)\n",
    "    # get AUC\n",
    "    auc = [roc_auc_score(y[:,i],pred[:,i]) for i in range(6)]     \n",
    "    auc_tot.append(auc)\n",
    "    print(\"subject\", i + 1)\n",
    "    print(auc)\n",
    "\n",
    "pred_tot = np.concatenate(pred_tot)\n",
    "y_tot = np.concatenate(y_tot)\n",
    "global_auc = [roc_auc_score(y_tot[:,i],pred_tot[:,i]) for i in range(6)]\n",
    "\n",
    "print('Global AUC : %.4f' % np.mean(global_auc))\n",
    "\n",
    "auc_tot = np.asarray(auc_tot)\n",
    "results = pd.DataFrame(data=auc_tot, columns=cols, index=subjects)\n",
    "results.to_csv('results_cv_auc.csv')\n",
    "\n",
    "plt.figure(figsize=(4,3))\n",
    "results.mean(axis=1).plot(kind='bar')\n",
    "plt.xlabel('Subject')\n",
    "plt.ylabel('AUC')\n",
    "plt.title('CV auc for each subject')\n",
    "plt.savefig('cross_val_auc_subject.png' ,bbox_inches='tight')\n",
    "\n",
    "plt.figure(figsize=(4,3))\n",
    "results.mean(axis=0).plot(kind='bar')\n",
    "plt.ylabel('AUC')\n",
    "plt.title('CV auc for each class')\n",
    "plt.savefig('cross_val_auc_class.png' ,bbox_inches='tight')"
   ]
  },
  {
   "cell_type": "markdown",
   "metadata": {},
   "source": [
    "## Kernel SVM"
   ]
  },
  {
   "cell_type": "markdown",
   "metadata": {},
   "source": [
    "## XGBoost"
   ]
  },
  {
   "cell_type": "markdown",
   "metadata": {},
   "source": [
    "# やること\n",
    "## 前処理\n",
    "- ローバスフィルタ，メディアンフィルタとか->うまくいかない\n",
    "- ダウンサンプリングとか->うまくいかない\n",
    "- ブリンクを取って，加算平均とか\n",
    "\n",
    "## 学習\n",
    "- 学習器の比較\n",
    " - kernel SVM\n",
    " - EXBoost\n",
    " - DNN\n",
    "\n",
    "## 可視化\n",
    "- データ可視化\n",
    "- 結果可視化"
   ]
  },
  {
   "cell_type": "code",
   "execution_count": null,
   "metadata": {
    "collapsed": true
   },
   "outputs": [],
   "source": []
  }
 ],
 "metadata": {
  "kernelspec": {
   "display_name": "Python [default]",
   "language": "python",
   "name": "python3"
  },
  "language_info": {
   "codemirror_mode": {
    "name": "ipython",
    "version": 3
   },
   "file_extension": ".py",
   "mimetype": "text/x-python",
   "name": "python",
   "nbconvert_exporter": "python",
   "pygments_lexer": "ipython3",
   "version": "3.5.4"
  }
 },
 "nbformat": 4,
 "nbformat_minor": 2
}
