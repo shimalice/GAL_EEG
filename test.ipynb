{
 "cells": [
  {
   "cell_type": "markdown",
   "metadata": {},
   "source": [
    "# Grasp-and-Lift(GAL) EEG Detection\n",
    "## Hand movements の分類\n",
    "- 被験者数: **12**\n",
    "- 各被験者ごとの試行のデータ系列数: **10**\n",
    "- 各被験者の試行回数: **約30**(試行回数は各系列データごとに異なる) \n",
    "\n",
    "training set: 各被験者の最初の8つの試行のデータ系列<br/>\n",
    "test set: 第9,10番目の試行のデータ系列<br/>\n",
    "\n",
    "### ラベル\n",
    "各GALには、6つのイベントを検出するタスク \n",
    "(それぞれのイベントにおいて2値分類(ラベル0,1))\n",
    "　\n",
    "1. HandStart\n",
    "1. FirstDigitTouch\n",
    "1. BothStartLoadPhase\n",
    "1. LiftOff\n",
    "1. Replace\n",
    "1. BothReleased\n",
    "\n",
    "これらのイベントは常に同じ順序で発生する<br/>\n",
    "training setには、各件名+シリーズの組み合わせごとに2つのファイル<br/>\n",
    "\n",
    "### データ\n",
    "* *_data.csvファイルには、生の32チャンネルEEG(Electroencephalography, 脳波)データ（サンプリングレート500Hz）\n",
    "* *_events.csvファイルには、すべてのイベントのフレーム・ワイズ・ラベル(1の連続)が含まれる\n",
    " * 6つのラベル列は、対応するイベントが±150ms（±75フレーム）以内に発生したかどうかに応じて、ゼロまたは1のいずれか\n",
    "\n",
    "## 目標\n",
    "#### 理想: このイベントの窓全体を完璧に予測"
   ]
  },
  {
   "cell_type": "markdown",
   "metadata": {},
   "source": [
    "# パッケージの準備"
   ]
  },
  {
   "cell_type": "code",
   "execution_count": 3,
   "metadata": {
    "collapsed": true
   },
   "outputs": [],
   "source": [
    "import numpy as np\n",
    "import pandas as pd\n",
    "from sklearn.linear_model import LogisticRegression\n",
    "from glob import glob\n",
    "import os\n",
    "\n",
    "from sklearn.preprocessing import StandardScaler"
   ]
  },
  {
   "cell_type": "markdown",
   "metadata": {},
   "source": [
    "# 関数の準備"
   ]
  },
  {
   "cell_type": "code",
   "execution_count": 18,
   "metadata": {
    "collapsed": true
   },
   "outputs": [],
   "source": [
    "### データの読み込み ###\n",
    "\n",
    "def prepare_data_train(fname):\n",
    "    \"\"\" 訓練データの読み込み \"\"\"\n",
    "    # EEGデータ読み込み\n",
    "    data = pd.read_csv(fname)\n",
    "    # fnameイベントファイルの名前に変換\n",
    "    events_fname = fname.replace('_data','_events')\n",
    "    # イベントデータの読み込み\n",
    "    labels= pd.read_csv(events_fname)\n",
    "    clean=data.drop(['id' ], axis=1)#id列を削除\n",
    "    labels=labels.drop(['id' ], axis=1)#id列を削除\n",
    "    return  clean,labels\n",
    "\n",
    "def prepare_data_test(fname):\n",
    "    \"\"\" テストデータの読み込み \"\"\"\n",
    "    # EEGデータの読み込み\n",
    "    data = pd.read_csv(fname)\n",
    "    return data"
   ]
  },
  {
   "cell_type": "code",
   "execution_count": 10,
   "metadata": {
    "collapsed": true
   },
   "outputs": [],
   "source": [
    "### 特徴ベクトルの標準化 ###\n",
    "\n",
    "scaler= StandardScaler()\n",
    "def data_preprocess_train(X):\n",
    "    X_prep=scaler.fit_transform(X)\n",
    "    #ここで他のpreprocessingを追加\n",
    "    return X_prep\n",
    "def data_preprocess_test(X):\n",
    "    X_prep=scaler.transform(X)\n",
    "    #ここで他のpreprocessingを追加\n",
    "    return X_prep"
   ]
  },
  {
   "cell_type": "code",
   "execution_count": 30,
   "metadata": {
    "collapsed": true
   },
   "outputs": [],
   "source": [
    "# ダウンサンプリングてきななにか\n",
    "subsample=100"
   ]
  },
  {
   "cell_type": "markdown",
   "metadata": {},
   "source": [
    "## 各GALごとに, 6 イベント(ラベル):\n",
    "\n",
    "1. HandStart\n",
    "1. FirstDigitTouch\n",
    "1. BothStartLoadPhase\n",
    "1. LiftOff\n",
    "1. Replace\n",
    "1. BothReleased"
   ]
  },
  {
   "cell_type": "code",
   "execution_count": 20,
   "metadata": {
    "collapsed": true
   },
   "outputs": [],
   "source": [
    "cols = ['HandStart','FirstDigitTouch',\n",
    "        'BothStartLoadPhase','LiftOff',\n",
    "        'Replace','BothReleased']"
   ]
  },
  {
   "cell_type": "markdown",
   "metadata": {},
   "source": [
    "## 12 の被験者"
   ]
  },
  {
   "cell_type": "code",
   "execution_count": 32,
   "metadata": {
    "collapsed": true
   },
   "outputs": [],
   "source": [
    "#被験者数\n",
    "subjects = range(1,13)\n",
    "ids_tot = []\n",
    "pred_tot = []"
   ]
  },
  {
   "cell_type": "markdown",
   "metadata": {},
   "source": [
    "# 訓練過程"
   ]
  },
  {
   "cell_type": "code",
   "execution_count": 33,
   "metadata": {},
   "outputs": [
    {
     "name": "stdout",
     "output_type": "stream",
     "text": [
      "Train subject 1, class HandStart\n",
      "Train subject 1, class FirstDigitTouch\n",
      "Train subject 1, class BothStartLoadPhase\n",
      "Train subject 1, class LiftOff\n",
      "Train subject 1, class Replace\n",
      "Train subject 1, class BothReleased\n",
      "Train subject 2, class HandStart\n",
      "Train subject 2, class FirstDigitTouch\n",
      "Train subject 2, class BothStartLoadPhase\n",
      "Train subject 2, class LiftOff\n",
      "Train subject 2, class Replace\n",
      "Train subject 2, class BothReleased\n",
      "Train subject 3, class HandStart\n",
      "Train subject 3, class FirstDigitTouch\n",
      "Train subject 3, class BothStartLoadPhase\n",
      "Train subject 3, class LiftOff\n",
      "Train subject 3, class Replace\n",
      "Train subject 3, class BothReleased\n",
      "Train subject 4, class HandStart\n",
      "Train subject 4, class FirstDigitTouch\n",
      "Train subject 4, class BothStartLoadPhase\n",
      "Train subject 4, class LiftOff\n",
      "Train subject 4, class Replace\n",
      "Train subject 4, class BothReleased\n",
      "Train subject 5, class HandStart\n",
      "Train subject 5, class FirstDigitTouch\n",
      "Train subject 5, class BothStartLoadPhase\n",
      "Train subject 5, class LiftOff\n",
      "Train subject 5, class Replace\n",
      "Train subject 5, class BothReleased\n",
      "Train subject 6, class HandStart\n",
      "Train subject 6, class FirstDigitTouch\n",
      "Train subject 6, class BothStartLoadPhase\n",
      "Train subject 6, class LiftOff\n",
      "Train subject 6, class Replace\n",
      "Train subject 6, class BothReleased\n",
      "Train subject 7, class HandStart\n",
      "Train subject 7, class FirstDigitTouch\n",
      "Train subject 7, class BothStartLoadPhase\n",
      "Train subject 7, class LiftOff\n",
      "Train subject 7, class Replace\n",
      "Train subject 7, class BothReleased\n",
      "Train subject 8, class HandStart\n",
      "Train subject 8, class FirstDigitTouch\n",
      "Train subject 8, class BothStartLoadPhase\n",
      "Train subject 8, class LiftOff\n",
      "Train subject 8, class Replace\n",
      "Train subject 8, class BothReleased\n",
      "Train subject 9, class HandStart\n",
      "Train subject 9, class FirstDigitTouch\n",
      "Train subject 9, class BothStartLoadPhase\n",
      "Train subject 9, class LiftOff\n",
      "Train subject 9, class Replace\n",
      "Train subject 9, class BothReleased\n",
      "Train subject 10, class HandStart\n",
      "Train subject 10, class FirstDigitTouch\n",
      "Train subject 10, class BothStartLoadPhase\n",
      "Train subject 10, class LiftOff\n",
      "Train subject 10, class Replace\n",
      "Train subject 10, class BothReleased\n",
      "Train subject 11, class HandStart\n",
      "Train subject 11, class FirstDigitTouch\n",
      "Train subject 11, class BothStartLoadPhase\n",
      "Train subject 11, class LiftOff\n",
      "Train subject 11, class Replace\n",
      "Train subject 11, class BothReleased\n",
      "Train subject 12, class HandStart\n",
      "Train subject 12, class FirstDigitTouch\n",
      "Train subject 12, class BothStartLoadPhase\n",
      "Train subject 12, class LiftOff\n",
      "Train subject 12, class Replace\n",
      "Train subject 12, class BothReleased\n"
     ]
    }
   ],
   "source": [
    "\"\"\" \n",
    "各被験者: 訓練->テストデータを予測\n",
    "8個のtrain系列データと2個のtest系列データ \n",
    "\"\"\"\n",
    "for subject in subjects:\n",
    "    y_raw = []\n",
    "    raw = []\n",
    "    ### 訓練データの読み込み #################################\n",
    "    fnames = glob('input/train/subj%d_series*_data.csv' % (subject))\n",
    "    for fname in fnames:\n",
    "        # 訓練データの読み込み\n",
    "        data,labels = prepare_data_train(fname)\n",
    "        # すべての系列データ(1-8)\n",
    "        raw.append(data)\n",
    "        y_raw.append(labels)\n",
    "\n",
    "    # 1次元のlistにする\n",
    "    X = pd.concat(raw)\n",
    "    y = pd.concat(y_raw)\n",
    "    #numpy arrayにする\n",
    "    X_train =np.asarray(X.astype(float))\n",
    "    y = np.asarray(y.astype(float))\n",
    "    \n",
    "    \n",
    "    ### テストデータの読み込み ###############################\n",
    "    \n",
    "    fnames = glob('input/test/subj%d_series*_data.csv' % (subject))\n",
    "    test = []\n",
    "    idx = []\n",
    "    for fname in fnames:\n",
    "        data = prepare_data_test(fname)\n",
    "        test.append(data)\n",
    "        idx.append(np.array(data['id']))\n",
    "    X_test = pd.concat(test)\n",
    "    ids = np.concatenate(idx)\n",
    "    ids_tot.append(ids)\n",
    "    X_test = X_test.drop(['id' ], axis=1)#remove id\n",
    "    #transform test data in numpy array\n",
    "    X_test = np.asarray(X_test.astype(float))\n",
    "\n",
    "    \n",
    "    ### 学習器 ############################################\n",
    "    ''' ロジスティック回帰 '''\n",
    "    lr = LogisticRegression()\n",
    "    pred = np.empty((X_test.shape[0],6))\n",
    "    \n",
    "    ### 前処理 ############################################\n",
    "    X_train = data_preprocess_train(X_train)\n",
    "    X_test = data_preprocess_test(X_test)\n",
    "    \n",
    "    ### 各イベントごとに学習 ################################\n",
    "    for i in range(6):\n",
    "        y_train= y[:,i]\n",
    "        print('Train subject %d, class %s' % (subject, cols[i]))\n",
    "        lr.fit(X_train[::subsample,:],y_train[::subsample])\n",
    "        pred[:,i] = lr.predict_proba(X_test)[:,1]\n",
    "\n",
    "    pred_tot.append(pred)"
   ]
  },
  {
   "cell_type": "markdown",
   "metadata": {},
   "source": [
    "# テストデータの予測をKaggleのSubmissionの指定形式でファイルに出力"
   ]
  },
  {
   "cell_type": "code",
   "execution_count": 34,
   "metadata": {
    "collapsed": true
   },
   "outputs": [],
   "source": [
    "### submissionファイル名\n",
    "submission_file = 'grasp-sub-simple.csv'\n",
    "\n",
    "# create pandas object for sbmission\n",
    "submission = pd.DataFrame(index=np.concatenate(ids_tot),\n",
    "                          columns=cols,\n",
    "                          data=np.concatenate(pred_tot))\n",
    "\n",
    "# write file\n",
    "submission.to_csv(submission_file,index_label='id',float_format='%.3f')"
   ]
  },
  {
   "cell_type": "markdown",
   "metadata": {},
   "source": [
    "# 交差検証法を用いたAUC(Area Under the Curve)による予測能の比較\n",
    "- AUC: ROC曲線(Receiver Operatorating Characteristic curve、受信者動作特性曲線)の面積\n",
    "- 混合行列を定量的に比較し，予測能を判断するもの"
   ]
  },
  {
   "cell_type": "code",
   "execution_count": 48,
   "metadata": {},
   "outputs": [
    {
     "name": "stdout",
     "output_type": "stream",
     "text": [
      "[0.7469592743845781, 0.76374334308707814, 0.74484090200460518, 0.75370565338388296, 0.854273812760588, 0.7991054116356181]\n",
      "[0.68682644300259277, 0.67413345308830552, 0.54789517976692104, 0.64812241169315843, 0.75375391623161281, 0.7472495308946745]\n",
      "[0.72291788702606752, 0.71801807291811515, 0.72033897308960215, 0.70554150707062713, 0.64307553524417005, 0.65927863079000382]\n",
      "[0.725563597077719, 0.76386438576204196, 0.75625091453651461, 0.72327819660503057, 0.70415836094886308, 0.67207823591389249]\n",
      "[0.6079616547397545, 0.68333031171500369, 0.6931500618298424, 0.70907075676192766, 0.66002234542889437, 0.6881960784136073]\n",
      "[0.68570192112661732, 0.68854131002763985, 0.71822146222106376, 0.73001750504269158, 0.81521559264085108, 0.78394593018218195]\n",
      "[0.78678924938592876, 0.78138862438451162, 0.77225465143802685, 0.75238155424706532, 0.78798830504209449, 0.77557925585855947]\n",
      "[0.64262538801414726, 0.69711385907918777, 0.7233446365892694, 0.71428458414823692, 0.73376103931769299, 0.72093047329469662]\n",
      "[0.82038178706439369, 0.69979401263750263, 0.69060260384896754, 0.72030772982915614, 0.71416066838188152, 0.76954494509908611]\n",
      "[0.81632584962500099, 0.83136408308575316, 0.82153831544817335, 0.83493595586248359, 0.77476330457986009, 0.71909652864783491]\n",
      "[0.7981968692476662, 0.68323949601653611, 0.70013311917222254, 0.74124935791578717, 0.72769871397660113, 0.73665139451702877]\n",
      "[0.70621238311968715, 0.56556725018974285, 0.5824622899429911, 0.71130512756883768, 0.62036772195053891, 0.56960477791522612]\n",
      "Global AUC : 0.7271\n"
     ]
    },
    {
     "data": {
      "image/png": "[encoded data removed]",
      "text/plain": [
       "<matplotlib.figure.Figure at 0x1a2c333e48>"
      ]
     },
     "metadata": {},
     "output_type": "display_data"
    },
    {
     "data": {
      "image/png": "[encoded data removed]",
      "text/plain": [
       "<matplotlib.figure.Figure at 0x110d66a58>"
      ]
     },
     "metadata": {},
     "output_type": "display_data"
    }
   ],
   "source": [
    "import numpy as np\n",
    "import pandas as pd\n",
    "\n",
    "import matplotlib.pyplot as plt\n",
    "%matplotlib inline\n",
    "from sklearn.linear_model import LogisticRegression\n",
    "from glob import glob\n",
    "import os\n",
    "\n",
    "from sklearn.preprocessing import StandardScaler\n",
    "from sklearn.model_selection import LeaveOneGroupOut\n",
    "from sklearn.metrics import roc_auc_score\n",
    "\n",
    "from joblib import Parallel, delayed\n",
    "\n",
    "\n",
    "def fit(X,y):\n",
    "    # Do here you training\n",
    "    clf = LogisticRegression()\n",
    "    clf.fit(X,y)\n",
    "    return clf\n",
    "\n",
    "def predict(clf,X):\n",
    "    # do here your prediction\n",
    "    preds = clf.predict_proba(X)\n",
    "    return np.atleast_2d(preds[:,clf.classes_==1])\n",
    "    \n",
    "#series used for CV\n",
    "series = range(2,9)"
   ]
  },
  {
   "cell_type": "code",
   "execution_count": null,
   "metadata": {
    "collapsed": true
   },
   "outputs": [],
   "source": [
    "#######number of subjects###############\n",
    "subjects = range(1,13)\n",
    "auc_tot = []\n",
    "pred_tot = []\n",
    "y_tot = []"
   ]
  },
  {
   "cell_type": "code",
   "execution_count": null,
   "metadata": {
    "collapsed": true
   },
   "outputs": [],
   "source": [
    "###loop on subjects and 8 series for train data + 2 series for test data\n",
    "for subject in subjects:\n",
    "    y_raw= []\n",
    "    raw = []\n",
    "    sequence = []\n",
    "    ################ READ DATA ################################################\n",
    "    \n",
    "    for ser in series:\n",
    "        fname =  'input/train/subj%d_series%d_data.csv' % (subject,ser)\n",
    "        data,labels=prepare_data_train(fname)\n",
    "        raw.append(data)\n",
    "        y_raw.append(labels)\n",
    "        sequence.extend([ser]*len(data))\n",
    "\n",
    "    X = pd.concat(raw)\n",
    "    y = pd.concat(y_raw)\n",
    "    #transform in numpy array\n",
    "    #transform train data in numpy array\n",
    "    X = np.asarray(X.astype(float))\n",
    "    y = np.asarray(y.astype(float))\n",
    "    sequence = np.asarray(sequence)\n",
    "#     print(sequence.shape, y.shape, X.shape)\n",
    "\n",
    "\n",
    "    ################ Train classifiers ########################################\n",
    "    cv = LeaveOneGroupOut()\n",
    "    cv.get_n_splits(groups=sequence)\n",
    "    pred = np.empty((X.shape[0],6))\n",
    "\n",
    "    for train, test in cv.split(X, y, sequence):\n",
    "        X_train = X[train]\n",
    "        X_test = X[test]\n",
    "        y_train = y[train]\n",
    "        #apply preprocessing\n",
    "        X_train=data_preprocess_train(X_train)\n",
    "        X_test=data_preprocess_test(X_test)\n",
    "        clfs = Parallel(n_jobs=6)(delayed(fit)(X_train[::subsample,:],y_train[::subsample,i]) for i in range(6))\n",
    "        preds = Parallel(n_jobs=6)(delayed(predict)(clfs[i],X_test) for i in range(6))\n",
    "        pred[test,:] = np.concatenate(preds,axis=1)\n",
    "    pred_tot.append(pred)\n",
    "    y_tot.append(y)\n",
    "    # get AUC\n",
    "    auc = [roc_auc_score(y[:,i],pred[:,i]) for i in range(6)]     \n",
    "    auc_tot.append(auc)\n",
    "    print(auc)\n",
    "\n",
    "pred_tot = np.concatenate(pred_tot)\n",
    "y_tot = np.concatenate(y_tot)\n",
    "global_auc = [roc_auc_score(y_tot[:,i],pred_tot[:,i]) for i in range(6)]\n",
    "\n",
    "print('Global AUC : %.4f' % np.mean(global_auc))\n",
    "\n",
    "auc_tot = np.asarray(auc_tot)\n",
    "results = pd.DataFrame(data=auc_tot, columns=cols, index=subjects)\n",
    "results.to_csv('results_cv_auc.csv')\n",
    "\n",
    "plt.figure(figsize=(4,3))\n",
    "results.mean(axis=1).plot(kind='bar')\n",
    "plt.xlabel('Subject')\n",
    "plt.ylabel('AUC')\n",
    "plt.title('CV auc for each subject')\n",
    "plt.savefig('cross_val_auc_subject.png' ,bbox_inches='tight')\n",
    "\n",
    "plt.figure(figsize=(4,3))\n",
    "results.mean(axis=0).plot(kind='bar')\n",
    "plt.ylabel('AUC')\n",
    "plt.title('CV auc for each class')\n",
    "plt.savefig('cross_val_auc_class.png' ,bbox_inches='tight')"
   ]
  },
  {
   "cell_type": "markdown",
   "metadata": {},
   "source": [
    "# やること\n",
    "## 前処理\n",
    "- ローバスフィルタ，メディアンフィルタとか\n",
    "- ダウンサンプリングとか\n",
    "- ブリンクを取って，加算平均とか\n",
    "\n",
    "## 学習\n",
    "- 学習器の比較\n",
    " - kernel SVM\n",
    " - EXBoost\n",
    " - DNN\n",
    "\n",
    "## 可視化\n",
    "- データ可視化\n",
    "- 結果可視化"
   ]
  },
  {
   "cell_type": "code",
   "execution_count": null,
   "metadata": {
    "collapsed": true
   },
   "outputs": [],
   "source": []
  }
 ],
 "metadata": {
  "kernelspec": {
   "display_name": "Python [default]",
   "language": "python",
   "name": "python3"
  },
  "language_info": {
   "codemirror_mode": {
    "name": "ipython",
    "version": 3
   },
   "file_extension": ".py",
   "mimetype": "text/x-python",
   "name": "python",
   "nbconvert_exporter": "python",
   "pygments_lexer": "ipython3",
   "version": "3.5.4"
  }
 },
 "nbformat": 4,
 "nbformat_minor": 2
}
